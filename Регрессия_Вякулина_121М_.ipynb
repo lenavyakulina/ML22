{
  "nbformat": 4,
  "nbformat_minor": 0,
  "metadata": {
    "colab": {
      "name": "Регрессия Вякулина 121М .ipynb",
      "provenance": [],
      "authorship_tag": "ABX9TyPgIgOR2Yu2BwnCJDffZikc",
      "include_colab_link": true
    },
    "kernelspec": {
      "name": "python3",
      "display_name": "Python 3"
    },
    "language_info": {
      "name": "python"
    }
  },
  "cells": [
    {
      "cell_type": "markdown",
      "metadata": {
        "id": "view-in-github",
        "colab_type": "text"
      },
      "source": [
        "<a href=\"https://colab.research.google.com/github/lenavyakulina/ML22/blob/main/%D0%A0%D0%B5%D0%B3%D1%80%D0%B5%D1%81%D1%81%D0%B8%D1%8F_%D0%92%D1%8F%D0%BA%D1%83%D0%BB%D0%B8%D0%BD%D0%B0_121%D0%9C_.ipynb\" target=\"_parent\"><img src=\"https://colab.research.google.com/assets/colab-badge.svg\" alt=\"Open In Colab\"/></a>"
      ]
    },
    {
      "cell_type": "code",
      "execution_count": 8,
      "metadata": {
        "id": "Nlsw6KGPVepV"
      },
      "outputs": [],
      "source": [
        "# 13.1 Подгонка прямой\n",
        "# Задача № 1: требуется натренировать модель, представляющую линейную связь между признаком и вектором целей\n",
        "# Решение: использовать линейную регрессию (в библиотеке scikit-leam это класс LinearRegression):\n",
        "# Загрузить библиотеки\n",
        "from sklearn.linear_model import LinearRegression \n",
        "from sklearn.datasets import load_boston"
      ]
    },
    {
      "cell_type": "code",
      "source": [
        "# Загрузить данные только с двумя признаками\n",
        "boston = load_boston()\n",
        "features = boston.data[:,0:2] \n",
        "target = boston.target"
      ],
      "metadata": {
        "id": "PwxijH_OV_fG"
      },
      "execution_count": null,
      "outputs": []
    },
    {
      "cell_type": "code",
      "source": [
        "# Создать объект линейной регрессии\n",
        "regression = LinearRegression()"
      ],
      "metadata": {
        "id": "b8IwtDk71OeH"
      },
      "execution_count": 10,
      "outputs": []
    },
    {
      "cell_type": "code",
      "source": [
        "# Выполнить подгонку линейной регресии\n",
        "model = regression.fit(features,  target)"
      ],
      "metadata": {
        "id": "c4K0xlL21Vu7"
      },
      "execution_count": 12,
      "outputs": []
    },
    {
      "cell_type": "code",
      "source": [
        "# Взглянуть на точку пересечения\n",
        "model.intercept_"
      ],
      "metadata": {
        "colab": {
          "base_uri": "https://localhost:8080/"
        },
        "id": "D978BO4S1f48",
        "outputId": "4f54627e-2240-43bf-8b75-cb03bafdefc8"
      },
      "execution_count": 13,
      "outputs": [
        {
          "output_type": "execute_result",
          "data": {
            "text/plain": [
              "22.485628113468223"
            ]
          },
          "metadata": {},
          "execution_count": 13
        }
      ]
    },
    {
      "cell_type": "code",
      "source": [
        "# Взглянуть на коэффициенты признаков\n",
        "model.coef_"
      ],
      "metadata": {
        "colab": {
          "base_uri": "https://localhost:8080/"
        },
        "id": "yFQhZgbH1qgt",
        "outputId": "51c2c2b8-fea0-4309-86ad-0801e6edebc1"
      },
      "execution_count": 14,
      "outputs": [
        {
          "output_type": "execute_result",
          "data": {
            "text/plain": [
              "array([-0.35207832,  0.11610909])"
            ]
          },
          "metadata": {},
          "execution_count": 14
        }
      ]
    },
    {
      "cell_type": "code",
      "source": [
        "# Первое значение в векторе целей,умноженное на 1000\n",
        "target[0]*1000"
      ],
      "metadata": {
        "colab": {
          "base_uri": "https://localhost:8080/"
        },
        "id": "x8ILFeT-1zgm",
        "outputId": "046db19d-e848-4379-bb30-9f53ce57176e"
      },
      "execution_count": 15,
      "outputs": [
        {
          "output_type": "execute_result",
          "data": {
            "text/plain": [
              "24000.0"
            ]
          },
          "metadata": {},
          "execution_count": 15
        }
      ]
    },
    {
      "cell_type": "code",
      "source": [
        "# Предсказать целевое значение первого наблюдения, умноженное на 1000 \n",
        "model.predict(features)[0]*1000\n",
        "# Наша модель сместилась всего на $573.4"
      ],
      "metadata": {
        "colab": {
          "base_uri": "https://localhost:8080/"
        },
        "id": "d-UqDRdo14oW",
        "outputId": "13b1b883-7eac-47a6-bdb5-fe5383751d1a"
      },
      "execution_count": 16,
      "outputs": [
        {
          "output_type": "execute_result",
          "data": {
            "text/plain": [
              "24573.366631705547"
            ]
          },
          "metadata": {},
          "execution_count": 16
        }
      ]
    },
    {
      "cell_type": "code",
      "source": [
        "# Первый коэффициент, умноженный на 1000 \n",
        "model.coef_[0]*1000\n",
        "# Это говорит о том, что каждое преступление на душу населения снизит цену дома примерно на $352"
      ],
      "metadata": {
        "colab": {
          "base_uri": "https://localhost:8080/"
        },
        "id": "17a72NJo2DW7",
        "outputId": "2b491bb0-e97d-4fcb-f967-5bf75034d89e"
      },
      "execution_count": 17,
      "outputs": [
        {
          "output_type": "execute_result",
          "data": {
            "text/plain": [
              "-352.07831564026765"
            ]
          },
          "metadata": {},
          "execution_count": 17
        }
      ]
    },
    {
      "cell_type": "code",
      "source": [
        "# 13.2 Обработка интерактивных эффектов\n",
        "# Задача № 2: Имеется признак, влияние которого на целевую переменную зависит от другого признака.\n",
        "# Решение : Создать член взаимодействия для захвата этой зависимости с помощью объекта класса PolynomialFeatures библиотеки scikit-leam:\n",
        "# Загрузить библиотеки\n",
        "from sklearn.linear_model import LinearRegression\n",
        "from sklearn.datasets import load_boston\n",
        "from sklearn.preprocessing import PolynomialFeatures\n",
        "# Загрузить данные только с двумя признаками \n",
        "boston = load_boston()\n",
        "features = boston.data[:,0:2] \n",
        "target = boston.target\n",
        "# Создать член, характеризующий взаимодействие между признаками \n",
        "interaction = PolynomialFeatures(\n",
        "degree=3, include_bias=False, interaction_only=True) \n",
        "features_interaction = interaction.fit_transform(features)\n",
        "# Создать объект линейной регрессии \n",
        "regression = LinearRegression()\n",
        "# Выполнить подгонку линейной регрессии\n",
        "model = regression.fit(features_interaction, target)"
      ],
      "metadata": {
        "id": "iL4YNDcz27ts"
      },
      "execution_count": null,
      "outputs": []
    },
    {
      "cell_type": "code",
      "source": [
        "# Взглянуть на признаки для первого наблюдения \n",
        "features[0]"
      ],
      "metadata": {
        "colab": {
          "base_uri": "https://localhost:8080/"
        },
        "id": "fRDcH_HB3jp5",
        "outputId": "1f9d8cb8-e750-4c77-dd03-5fa126d5191b"
      },
      "execution_count": 19,
      "outputs": [
        {
          "output_type": "execute_result",
          "data": {
            "text/plain": [
              "array([6.32e-03, 1.80e+01])"
            ]
          },
          "metadata": {},
          "execution_count": 19
        }
      ]
    },
    {
      "cell_type": "code",
      "source": [
        "# Импортировать библиотеку \n",
        "import numpy as np\n",
        "# Для каждого наблюдения перемножить значения первого и второго признаков\n",
        "interaction_term = np.multiply(features[:, 0], features[:, 1])\n",
        "# Взглянуть на член взаимодействия для первого наблюдения \n",
        "interaction_term[0]"
      ],
      "metadata": {
        "colab": {
          "base_uri": "https://localhost:8080/"
        },
        "id": "2W3GrwDP3vNZ",
        "outputId": "a5646452-4487-4ec3-b701-dff50d72cd0c"
      },
      "execution_count": 20,
      "outputs": [
        {
          "output_type": "execute_result",
          "data": {
            "text/plain": [
              "0.11376"
            ]
          },
          "metadata": {},
          "execution_count": 20
        }
      ]
    },
    {
      "cell_type": "code",
      "source": [
        "# Взглянуть на значения для первого наблюдения \n",
        "features_interaction[0]"
      ],
      "metadata": {
        "colab": {
          "base_uri": "https://localhost:8080/"
        },
        "id": "lP6GhZqR4L_7",
        "outputId": "480d37de-eeac-4506-a21d-2a0cb5cd75c5"
      },
      "execution_count": 21,
      "outputs": [
        {
          "output_type": "execute_result",
          "data": {
            "text/plain": [
              "array([6.3200e-03, 1.8000e+01, 1.1376e-01])"
            ]
          },
          "metadata": {},
          "execution_count": 21
        }
      ]
    },
    {
      "cell_type": "code",
      "source": [
        "# 13.3 Подгонка нелинейной связи\n",
        "# Задача № 3: Требуется смоделировать нелинейную связь.\n",
        "# Решение: Создать полиномиальную регрессию путем включения полиномиальных признаков в линейную регрессионную модель:\n",
        "# Загрузить библиотеки\n",
        "from sklearn.linear_model import LinearRegression\n",
        "from sklearn.datasets import load_boston\n",
        "from sklearn.preprocessing import PolynomialFeatures\n",
        "# Загрузить данные с одним признаком \n",
        "boston = load_boston()\n",
        "features = boston.data[:,0:1] \n",
        "target = boston.target\n",
        "# Создать полиномиальные признаки х^2 и х^3\n",
        "polynomial = PolynomialFeatures(degree=3, include_bias=False) \n",
        "features_polynomial = polynomial.fit_transform(features)\n",
        "# Создать объект линейной регрессии \n",
        "regression = LinearRegression()\n",
        "# Выполнить подгонку линейной регрессии\n",
        "model = regression.fit(features_polynomial, target)"
      ],
      "metadata": {
        "id": "1tVT062P4hRc"
      },
      "execution_count": null,
      "outputs": []
    },
    {
      "cell_type": "code",
      "source": [
        "# Взглянуть на первое наблюдение \n",
        "features[0]"
      ],
      "metadata": {
        "colab": {
          "base_uri": "https://localhost:8080/"
        },
        "id": "LaSHTAwq5Cc7",
        "outputId": "c700ca8d-4848-4898-ed87-c2126764ed03"
      },
      "execution_count": 26,
      "outputs": [
        {
          "output_type": "execute_result",
          "data": {
            "text/plain": [
              "array([0.00632])"
            ]
          },
          "metadata": {},
          "execution_count": 26
        }
      ]
    },
    {
      "cell_type": "code",
      "source": [
        "# Взглянуть на первое наблюдение, возведенное во вторую степень, х^2 \n",
        "features[0]**2"
      ],
      "metadata": {
        "colab": {
          "base_uri": "https://localhost:8080/"
        },
        "id": "58ZiWaFV5Ikl",
        "outputId": "d5d305dd-b511-481e-ac02-4b174b4babe0"
      },
      "execution_count": 27,
      "outputs": [
        {
          "output_type": "execute_result",
          "data": {
            "text/plain": [
              "array([3.99424e-05])"
            ]
          },
          "metadata": {},
          "execution_count": 27
        }
      ]
    },
    {
      "cell_type": "code",
      "source": [
        "# Взглянуть на первое наблюдение, возведенное в третью степень, х^3 \n",
        "features[0]**3"
      ],
      "metadata": {
        "colab": {
          "base_uri": "https://localhost:8080/"
        },
        "id": "l6yXsEuH5hXe",
        "outputId": "5af70448-b444-4b66-876e-dd722f909793"
      },
      "execution_count": 28,
      "outputs": [
        {
          "output_type": "execute_result",
          "data": {
            "text/plain": [
              "array([2.52435968e-07])"
            ]
          },
          "metadata": {},
          "execution_count": 28
        }
      ]
    },
    {
      "cell_type": "code",
      "source": [
        "# Взглянуть на значения первого наблюдения для х, х^2 и х^3 \n",
        "features_polynomial[0]"
      ],
      "metadata": {
        "colab": {
          "base_uri": "https://localhost:8080/"
        },
        "id": "u4KdLUhF5rr9",
        "outputId": "be3b7d9e-0c14-4cda-c63e-6ae5d05c345a"
      },
      "execution_count": 29,
      "outputs": [
        {
          "output_type": "execute_result",
          "data": {
            "text/plain": [
              "array([6.32000000e-03, 3.99424000e-05, 2.52435968e-07])"
            ]
          },
          "metadata": {},
          "execution_count": 29
        }
      ]
    },
    {
      "cell_type": "code",
      "source": [
        "# 13.4.  Снижение дисперсии с помощью регуляризации\n",
        "# Задача № 4: Требуется уменьшить дисперсию линейной регрессионной модели.\n",
        "# Решение : Использовать обучающийся алгоритм, который включает сжимающий штраф (так называемую регуляризацию), такой как гребневая регрессия и лассо-регрессия:\n",
        "# Загрузить библиотеки\n",
        "from sklearn.linear_model import Ridge\n",
        "from sklearn.datasets import load_boston\n",
        "from sklearn.preprocessing import StandardScaler\n",
        "# Загрузить данные \n",
        "boston = load_boston() \n",
        "features = boston.data \n",
        "target = boston.target\n",
        "# Стандартизировать признаки \n",
        "scaler = StandardScaler()\n",
        "features_standardized = scaler.fit_transform(features)\n",
        "# Создать объект гребневой регрессии со значением альфа \n",
        "regression = Ridge(alpha=0.5)\n",
        "# Выполнить подгонку линейной регрессии\n",
        "model = regression.fit(features_standardized, target)"
      ],
      "metadata": {
        "id": "T7kSZxoy582a"
      },
      "execution_count": null,
      "outputs": []
    },
    {
      "cell_type": "code",
      "source": [
        "# Загрузить библиотеку\n",
        "from sklearn.linear_model import RidgeCV\n",
        "# Создать объект гребневой регрессии с тремя значениями alpha \n",
        "regr_cv = RidgeCV(alphas=[0.1, 1.0, 10.0])\n",
        "# Выполнить подгонку линейной регрессии\n",
        "model_cv = regr_cv.fit(features_standardized, target)\n",
        "# Взглянуть на коэффициенты \n",
        "model_cv.coef_"
      ],
      "metadata": {
        "colab": {
          "base_uri": "https://localhost:8080/"
        },
        "id": "DpIBGHqf6paA",
        "outputId": "40f9b429-1faf-41a8-b98f-116c004771ec"
      },
      "execution_count": 32,
      "outputs": [
        {
          "output_type": "execute_result",
          "data": {
            "text/plain": [
              "array([-0.91987132,  1.06646104,  0.11738487,  0.68512693, -2.02901013,\n",
              "        2.68275376,  0.01315848, -3.07733968,  2.59153764, -2.0105579 ,\n",
              "       -2.05238455,  0.84884839, -3.73066646])"
            ]
          },
          "metadata": {},
          "execution_count": 32
        }
      ]
    },
    {
      "cell_type": "code",
      "source": [
        "# Взглянуть на alpha \n",
        "model_cv.alpha_"
      ],
      "metadata": {
        "colab": {
          "base_uri": "https://localhost:8080/"
        },
        "id": "qJvIilB16zxK",
        "outputId": "413403d3-707b-4569-c38b-df4a8b2d4641"
      },
      "execution_count": 33,
      "outputs": [
        {
          "output_type": "execute_result",
          "data": {
            "text/plain": [
              "1.0"
            ]
          },
          "metadata": {},
          "execution_count": 33
        }
      ]
    },
    {
      "cell_type": "code",
      "source": [
        "# 13.5. Уменьшение количества признаков с помощью лассо-регрессии\n",
        "# Задача № 5 : Требуется упростить линейную регрессионную модель, уменьшив количество признаков.\n",
        "# Решение : Использовать лассо-регрессию:\n",
        "# Загрузить библиотеки\n",
        "from sklearn.linear_model import Lasso\n",
        "from sklearn.datasets import load_boston\n",
        "from sklearn.preprocessing import StandardScaler\n",
        "# Загрузить данные \n",
        "boston = load_boston() \n",
        "features = boston.data \n",
        "target = boston.target\n",
        "# Стандартизировать признаки \n",
        "scaler = StandardScaler()\n",
        "features_standardized = scaler.fit_transform(features)\n",
        "# Создать объект лассо-регрессии со значением alpha \n",
        "regression = Lasso(alpha=0.5)\n",
        "# Выполнить подгонку линейной регрессии\n",
        "model = regression.fit(features_standardized, target)"
      ],
      "metadata": {
        "id": "m5XQPuxO7C5C"
      },
      "execution_count": null,
      "outputs": []
    },
    {
      "cell_type": "code",
      "source": [
        "# Взглянуть на коэффициенты \n",
        "model.coef_\n"
      ],
      "metadata": {
        "colab": {
          "base_uri": "https://localhost:8080/"
        },
        "id": "KUv8pFNI7juu",
        "outputId": "15bd312b-aafb-4b5c-dd96-e5f172965834"
      },
      "execution_count": 35,
      "outputs": [
        {
          "output_type": "execute_result",
          "data": {
            "text/plain": [
              "array([-0.11526463,  0.        , -0.        ,  0.39707879, -0.        ,\n",
              "        2.97425861, -0.        , -0.17056942, -0.        , -0.        ,\n",
              "       -1.59844856,  0.54313871, -3.66614361])"
            ]
          },
          "metadata": {},
          "execution_count": 35
        }
      ]
    },
    {
      "cell_type": "code",
      "source": [
        "# Создать лассо-регрессию с высоким alpha \n",
        "regression_a10 = Lasso(alpha=10)\n",
        "model_a10 = regression_a10.fit(features_standardized,  target) \n",
        "model_a10.coef_"
      ],
      "metadata": {
        "colab": {
          "base_uri": "https://localhost:8080/"
        },
        "id": "vj6bpNx-7vX4",
        "outputId": "a388120c-80ab-41e3-802a-49163ea1de24"
      },
      "execution_count": 36,
      "outputs": [
        {
          "output_type": "execute_result",
          "data": {
            "text/plain": [
              "array([-0.,  0., -0.,  0., -0.,  0., -0.,  0., -0., -0., -0.,  0., -0.])"
            ]
          },
          "metadata": {},
          "execution_count": 36
        }
      ]
    }
  ]
}